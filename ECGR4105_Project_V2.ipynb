{
 "cells": [
  {
   "cell_type": "code",
   "execution_count": 83,
   "id": "821abcf1",
   "metadata": {},
   "outputs": [],
   "source": [
    "import numpy as np\n",
    "import matplotlib.pyplot as plt\n",
    "import pandas as pd\n",
    "import seaborn as sns\n",
    "import warnings\n",
    "from sklearn.model_selection import train_test_split, KFold, cross_validate\n",
    "from sklearn.preprocessing import StandardScaler, MinMaxScaler\n",
    "from sklearn import linear_model, datasets\n",
    "from sklearn.metrics import accuracy_score, mean_squared_error, r2_score\n",
    "from sklearn import metrics\n",
    "from sklearn.naive_bayes import GaussianNB, CategoricalNB\n",
    "warnings.filterwarnings('ignore')"
   ]
  },
  {
   "cell_type": "code",
   "execution_count": 84,
   "id": "9bae04cf",
   "metadata": {},
   "outputs": [],
   "source": [
    "#Load dataset\n",
    "Grid_QOL = pd.read_csv(r'C:\\Users\\Aaron\\Downloads\\QOLdataCombined.csv')"
   ]
  },
  {
   "cell_type": "code",
   "execution_count": 94,
   "id": "e7c4b461",
   "metadata": {
    "scrolled": true
   },
   "outputs": [
    {
     "data": {
      "text/html": [
       "<div>\n",
       "<style scoped>\n",
       "    .dataframe tbody tr th:only-of-type {\n",
       "        vertical-align: middle;\n",
       "    }\n",
       "\n",
       "    .dataframe tbody tr th {\n",
       "        vertical-align: top;\n",
       "    }\n",
       "\n",
       "    .dataframe thead th {\n",
       "        text-align: right;\n",
       "    }\n",
       "</style>\n",
       "<table border=\"1\" class=\"dataframe\">\n",
       "  <thead>\n",
       "    <tr style=\"text-align: right;\">\n",
       "      <th></th>\n",
       "      <th>Unnamed: 0</th>\n",
       "      <th>Age_of_Residents_2019</th>\n",
       "      <th>White_Population_2020</th>\n",
       "      <th>Black_Population_2020</th>\n",
       "      <th>Asian_Population_2020</th>\n",
       "      <th>All_Other_Races_2020</th>\n",
       "      <th>Hispanic_Latino_2020</th>\n",
       "      <th>High_School_Diploma_2019</th>\n",
       "      <th>Student Absenteeism 2019</th>\n",
       "      <th>Grocery_Proximity_2019</th>\n",
       "      <th>Home_Ownership_2019</th>\n",
       "      <th>Violent_Crime_Rate_2018</th>\n",
       "      <th>Property_Crime_Rate_2018</th>\n",
       "      <th>Voter_Participation_2020</th>\n",
       "      <th>Quality of Life Metric</th>\n",
       "    </tr>\n",
       "  </thead>\n",
       "  <tbody>\n",
       "    <tr>\n",
       "      <th>0</th>\n",
       "      <td>2</td>\n",
       "      <td>30</td>\n",
       "      <td>59.78</td>\n",
       "      <td>20.91</td>\n",
       "      <td>1.73</td>\n",
       "      <td>7.00</td>\n",
       "      <td>10.59</td>\n",
       "      <td>88</td>\n",
       "      <td>0.19</td>\n",
       "      <td>27.95</td>\n",
       "      <td>35</td>\n",
       "      <td>6.7</td>\n",
       "      <td>44.1</td>\n",
       "      <td>71</td>\n",
       "      <td>0.645258</td>\n",
       "    </tr>\n",
       "    <tr>\n",
       "      <th>1</th>\n",
       "      <td>3</td>\n",
       "      <td>34</td>\n",
       "      <td>79.00</td>\n",
       "      <td>6.67</td>\n",
       "      <td>4.54</td>\n",
       "      <td>4.45</td>\n",
       "      <td>5.35</td>\n",
       "      <td>97</td>\n",
       "      <td>0.04</td>\n",
       "      <td>35.83</td>\n",
       "      <td>46</td>\n",
       "      <td>3.9</td>\n",
       "      <td>69.5</td>\n",
       "      <td>75</td>\n",
       "      <td>0.763501</td>\n",
       "    </tr>\n",
       "    <tr>\n",
       "      <th>2</th>\n",
       "      <td>4</td>\n",
       "      <td>50</td>\n",
       "      <td>88.44</td>\n",
       "      <td>1.63</td>\n",
       "      <td>4.28</td>\n",
       "      <td>2.74</td>\n",
       "      <td>2.91</td>\n",
       "      <td>100</td>\n",
       "      <td>0.06</td>\n",
       "      <td>18.29</td>\n",
       "      <td>96</td>\n",
       "      <td>0.0</td>\n",
       "      <td>12.5</td>\n",
       "      <td>87</td>\n",
       "      <td>0.818602</td>\n",
       "    </tr>\n",
       "    <tr>\n",
       "      <th>3</th>\n",
       "      <td>5</td>\n",
       "      <td>36</td>\n",
       "      <td>10.75</td>\n",
       "      <td>71.24</td>\n",
       "      <td>1.17</td>\n",
       "      <td>4.53</td>\n",
       "      <td>12.31</td>\n",
       "      <td>82</td>\n",
       "      <td>0.25</td>\n",
       "      <td>22.03</td>\n",
       "      <td>19</td>\n",
       "      <td>11.7</td>\n",
       "      <td>45.3</td>\n",
       "      <td>47</td>\n",
       "      <td>0.593606</td>\n",
       "    </tr>\n",
       "    <tr>\n",
       "      <th>4</th>\n",
       "      <td>6</td>\n",
       "      <td>35</td>\n",
       "      <td>14.64</td>\n",
       "      <td>70.90</td>\n",
       "      <td>0.50</td>\n",
       "      <td>3.84</td>\n",
       "      <td>10.13</td>\n",
       "      <td>68</td>\n",
       "      <td>0.23</td>\n",
       "      <td>66.67</td>\n",
       "      <td>37</td>\n",
       "      <td>27.7</td>\n",
       "      <td>102.2</td>\n",
       "      <td>53</td>\n",
       "      <td>0.689710</td>\n",
       "    </tr>\n",
       "  </tbody>\n",
       "</table>\n",
       "</div>"
      ],
      "text/plain": [
       "   Unnamed: 0  Age_of_Residents_2019  White_Population_2020  \\\n",
       "0           2                     30                  59.78   \n",
       "1           3                     34                  79.00   \n",
       "2           4                     50                  88.44   \n",
       "3           5                     36                  10.75   \n",
       "4           6                     35                  14.64   \n",
       "\n",
       "   Black_Population_2020  Asian_Population_2020  All_Other_Races_2020  \\\n",
       "0                  20.91                   1.73                  7.00   \n",
       "1                   6.67                   4.54                  4.45   \n",
       "2                   1.63                   4.28                  2.74   \n",
       "3                  71.24                   1.17                  4.53   \n",
       "4                  70.90                   0.50                  3.84   \n",
       "\n",
       "   Hispanic_Latino_2020  High_School_Diploma_2019  Student Absenteeism 2019  \\\n",
       "0                 10.59                        88                      0.19   \n",
       "1                  5.35                        97                      0.04   \n",
       "2                  2.91                       100                      0.06   \n",
       "3                 12.31                        82                      0.25   \n",
       "4                 10.13                        68                      0.23   \n",
       "\n",
       "   Grocery_Proximity_2019  Home_Ownership_2019  Violent_Crime_Rate_2018  \\\n",
       "0                   27.95                   35                      6.7   \n",
       "1                   35.83                   46                      3.9   \n",
       "2                   18.29                   96                      0.0   \n",
       "3                   22.03                   19                     11.7   \n",
       "4                   66.67                   37                     27.7   \n",
       "\n",
       "   Property_Crime_Rate_2018  Voter_Participation_2020  Quality of Life Metric  \n",
       "0                      44.1                        71                0.645258  \n",
       "1                      69.5                        75                0.763501  \n",
       "2                      12.5                        87                0.818602  \n",
       "3                      45.3                        47                0.593606  \n",
       "4                     102.2                        53                0.689710  "
      ]
     },
     "execution_count": 94,
     "metadata": {},
     "output_type": "execute_result"
    }
   ],
   "source": [
    "#Display beginning data points\n",
    "Grid_QOL.head()"
   ]
  },
  {
   "cell_type": "code",
   "execution_count": 235,
   "id": "50862763",
   "metadata": {},
   "outputs": [
    {
     "data": {
      "image/png": "[encoded data removed]",
      "text/plain": [
       "<Figure size 1440x1440 with 2 Axes>"
      ]
     },
     "metadata": {
      "needs_background": "light"
     },
     "output_type": "display_data"
    }
   ],
   "source": [
    "corrMat = Grid_QOL.corr()\n",
    "sns.heatmap(corrMat, annot=True)\n",
    "plt.rcParams['figure.figsize'] = [20, 20]\n",
    "plt.show()"
   ]
  },
  {
   "cell_type": "code",
   "execution_count": 238,
   "id": "52a65061",
   "metadata": {},
   "outputs": [],
   "source": [
    "#\n",
    "#Separate data into input and output\n",
    "X = Grid_QOL.iloc[:,[1,2,3,4,5,6,7,8,9,10,11,12,13]].values\n",
    "Y = Grid_QOL.iloc[:, 14].values"
   ]
  },
  {
   "cell_type": "code",
   "execution_count": 168,
   "id": "051e6750",
   "metadata": {},
   "outputs": [],
   "source": [
    "#Split into training and test data\n",
    "rand = np.random.seed(0)\n",
    "X_train, X_test, Y_train, Y_test = train_test_split(X, Y, test_size = 0.2, train_size = 0.8, random_state = rand)"
   ]
  },
  {
   "cell_type": "code",
   "execution_count": 104,
   "id": "ea51510f",
   "metadata": {},
   "outputs": [],
   "source": [
    "#Standardize training/test data\n",
    "#sc_X = StandardScaler()\n",
    "#scaler = MinMaxScaler()\n",
    "#X_train = scaler.fit_transform(X_train)\n",
    "#X_test = scaler.fit_transform(X_test)\n",
    "#X_train = sc_X.fit_transform(X_train)\n",
    "#X_test = sc_X.fit_transform(X_test)"
   ]
  },
  {
   "cell_type": "code",
   "execution_count": 105,
   "id": "234db6d8",
   "metadata": {},
   "outputs": [],
   "source": [
    "LG = linear_model.LinearRegression()"
   ]
  },
  {
   "cell_type": "code",
   "execution_count": 106,
   "id": "c09d9f0b",
   "metadata": {},
   "outputs": [
    {
     "data": {
      "text/plain": [
       "LinearRegression()"
      ]
     },
     "execution_count": 106,
     "metadata": {},
     "output_type": "execute_result"
    }
   ],
   "source": [
    "LG.fit(X_train, Y_train)"
   ]
  },
  {
   "cell_type": "code",
   "execution_count": 107,
   "id": "6dd42a03",
   "metadata": {},
   "outputs": [
    {
     "data": {
      "text/plain": [
       "array([ 9.71445222e-04, -1.86402126e-01, -1.87594949e-01, -1.86147237e-01,\n",
       "       -1.94579805e-01, -1.88005397e-01, -1.56642932e-04, -6.86272793e-02,\n",
       "        7.86358787e-04, -3.61873845e-04,  9.51371935e-04, -1.13199163e-04,\n",
       "        2.62961750e-03])"
      ]
     },
     "execution_count": 107,
     "metadata": {},
     "output_type": "execute_result"
    }
   ],
   "source": [
    "LG.coef_"
   ]
  },
  {
   "cell_type": "code",
   "execution_count": 108,
   "id": "4834d5fc",
   "metadata": {},
   "outputs": [],
   "source": [
    "LGpred = LG.predict(X_test)"
   ]
  },
  {
   "cell_type": "code",
   "execution_count": 109,
   "id": "19d549c7",
   "metadata": {},
   "outputs": [
    {
     "name": "stdout",
     "output_type": "stream",
     "text": [
      "Coefficients: \n",
      " [ 9.71445222e-04 -1.86402126e-01 -1.87594949e-01 -1.86147237e-01\n",
      " -1.94579805e-01 -1.88005397e-01 -1.56642932e-04 -6.86272793e-02\n",
      "  7.86358787e-04 -3.61873845e-04  9.51371935e-04 -1.13199163e-04\n",
      "  2.62961750e-03]\n",
      "Mean squared error: 0.00\n",
      "Coefficient of determination: 0.61\n"
     ]
    }
   ],
   "source": [
    "# The coefficients\n",
    "print(\"Coefficients: \\n\", LG.coef_)\n",
    "# The mean squared error\n",
    "print(\"Mean squared error: %.2f\" % mean_squared_error(Y_test, LGpred))\n",
    "# The coefficient of determination: 1 is perfect prediction\n",
    "print(\"Coefficient of determination: %.2f\" % r2_score(Y_test, LGpred))"
   ]
  },
  {
   "cell_type": "code",
   "execution_count": null,
   "id": "cb8548a9",
   "metadata": {},
   "outputs": [],
   "source": []
  },
  {
   "cell_type": "code",
   "execution_count": 110,
   "id": "34d8b131",
   "metadata": {},
   "outputs": [],
   "source": [
    "Ridge = linear_model.Ridge(alpha=0.5)"
   ]
  },
  {
   "cell_type": "code",
   "execution_count": 111,
   "id": "618e5849",
   "metadata": {},
   "outputs": [
    {
     "data": {
      "text/plain": [
       "Ridge(alpha=0.5)"
      ]
     },
     "execution_count": 111,
     "metadata": {},
     "output_type": "execute_result"
    }
   ],
   "source": [
    "Ridge.fit(X_train, Y_train)"
   ]
  },
  {
   "cell_type": "code",
   "execution_count": 112,
   "id": "1a45fb05",
   "metadata": {},
   "outputs": [],
   "source": [
    "Ridgepred = Ridge.predict(X_test)"
   ]
  },
  {
   "cell_type": "code",
   "execution_count": 113,
   "id": "71635883",
   "metadata": {},
   "outputs": [
    {
     "name": "stdout",
     "output_type": "stream",
     "text": [
      "Coefficients: \n",
      " [ 9.62248114e-04  1.16500339e-03 -5.32343976e-05  1.45359272e-03\n",
      " -6.98744990e-03 -4.26876407e-04 -1.34407920e-04 -3.46072660e-02\n",
      "  7.88986132e-04 -3.54211803e-04  9.25469784e-04 -1.17465460e-04\n",
      "  2.72849923e-03]\n",
      "Mean squared error: 0.00\n",
      "Coefficient of determination: 0.60\n"
     ]
    }
   ],
   "source": [
    "# The coefficients\n",
    "print(\"Coefficients: \\n\", Ridge.coef_)\n",
    "# The mean squared error\n",
    "print(\"Mean squared error: %.2f\" % mean_squared_error(Y_test, Ridgepred))\n",
    "# The coefficient of determination: 1 is perfect prediction\n",
    "print(\"Coefficient of determination: %.2f\" % r2_score(Y_test, Ridgepred))"
   ]
  },
  {
   "cell_type": "code",
   "execution_count": 123,
   "id": "5aa91562",
   "metadata": {},
   "outputs": [],
   "source": [
    "RidgeCV = linear_model.RidgeCV(alphas = np.logspace(-5, 5, 12))"
   ]
  },
  {
   "cell_type": "code",
   "execution_count": 124,
   "id": "9c544c61",
   "metadata": {},
   "outputs": [
    {
     "data": {
      "text/plain": [
       "RidgeCV(alphas=array([1.00000000e-05, 8.11130831e-05, 6.57933225e-04, 5.33669923e-03,\n",
       "       4.32876128e-02, 3.51119173e-01, 2.84803587e+00, 2.31012970e+01,\n",
       "       1.87381742e+02, 1.51991108e+03, 1.23284674e+04, 1.00000000e+05]),\n",
       "        cv=10)"
      ]
     },
     "execution_count": 124,
     "metadata": {},
     "output_type": "execute_result"
    }
   ],
   "source": [
    "RidgeCV.fit(X_train, Y_train)"
   ]
  },
  {
   "cell_type": "code",
   "execution_count": 125,
   "id": "20398ca2",
   "metadata": {},
   "outputs": [],
   "source": [
    "RidgeCVpred = RidgeCV.predict(X_test)"
   ]
  },
  {
   "cell_type": "code",
   "execution_count": 126,
   "id": "9284bf53",
   "metadata": {},
   "outputs": [
    {
     "name": "stdout",
     "output_type": "stream",
     "text": [
      "Coefficients: \n",
      " [ 9.23216676e-04  1.17301581e-03 -1.32860019e-04  1.26470819e-03\n",
      " -1.84497241e-03 -4.61637343e-04 -1.93006643e-04 -2.78941809e-05\n",
      "  8.15031793e-04 -2.19992636e-04  6.64241108e-04 -1.20526276e-04\n",
      "  2.21093619e-03]\n",
      "Mean squared error: 0.00\n",
      "Coefficient of determination: 0.59\n"
     ]
    }
   ],
   "source": [
    "# The coefficients\n",
    "print(\"Coefficients: \\n\", RidgeCV.coef_)\n",
    "# The mean squared error\n",
    "print(\"Mean squared error: %.2f\" % mean_squared_error(Y_test, RidgeCVpred))\n",
    "# The coefficient of determination: 1 is perfect prediction\n",
    "print(\"Coefficient of determination: %.2f\" % r2_score(Y_test, RidgeCVpred))"
   ]
  },
  {
   "cell_type": "code",
   "execution_count": 159,
   "id": "801c294c",
   "metadata": {},
   "outputs": [],
   "source": [
    "Lasso = linear_model.Lasso(alpha=0.001)"
   ]
  },
  {
   "cell_type": "code",
   "execution_count": 160,
   "id": "f01bd293",
   "metadata": {},
   "outputs": [
    {
     "data": {
      "text/plain": [
       "Lasso(alpha=0.001)"
      ]
     },
     "execution_count": 160,
     "metadata": {},
     "output_type": "execute_result"
    }
   ],
   "source": [
    "Lasso.fit(X_train, Y_train)"
   ]
  },
  {
   "cell_type": "code",
   "execution_count": 161,
   "id": "021bf9c8",
   "metadata": {},
   "outputs": [],
   "source": [
    "Lassopred = Lasso.predict(X_test)"
   ]
  },
  {
   "cell_type": "code",
   "execution_count": 162,
   "id": "4d25264a",
   "metadata": {},
   "outputs": [
    {
     "name": "stdout",
     "output_type": "stream",
     "text": [
      "Coefficients: \n",
      " [ 9.38753116e-04  1.24835986e-03 -0.00000000e+00  1.54094328e-03\n",
      " -6.29916204e-03 -3.02888003e-04 -9.22525564e-05 -0.00000000e+00\n",
      "  7.88470885e-04 -3.32356522e-04  8.13391000e-04 -1.15046372e-04\n",
      "  2.77487619e-03]\n",
      "Mean squared error: 0.00\n",
      "Coefficient of determination: 0.59\n"
     ]
    }
   ],
   "source": [
    "# The coefficients\n",
    "print(\"Coefficients: \\n\", Lasso.coef_)\n",
    "# The mean squared error\n",
    "print(\"Mean squared error: %.2f\" % mean_squared_error(Y_test, Lassopred))\n",
    "# The coefficient of determination: 1 is perfect prediction\n",
    "print(\"Coefficient of determination: %.2f\" % r2_score(Y_test, Lassopred))"
   ]
  },
  {
   "cell_type": "code",
   "execution_count": 169,
   "id": "26f4351e",
   "metadata": {},
   "outputs": [],
   "source": [
    "LassoCV = linear_model.LassoCV(alphas = np.logspace(-5, 5, 12))"
   ]
  },
  {
   "cell_type": "code",
   "execution_count": 170,
   "id": "8e6cb2c0",
   "metadata": {},
   "outputs": [
    {
     "data": {
      "text/plain": [
       "LassoCV(alphas=array([1.00000000e-05, 8.11130831e-05, 6.57933225e-04, 5.33669923e-03,\n",
       "       4.32876128e-02, 3.51119173e-01, 2.84803587e+00, 2.31012970e+01,\n",
       "       1.87381742e+02, 1.51991108e+03, 1.23284674e+04, 1.00000000e+05]))"
      ]
     },
     "execution_count": 170,
     "metadata": {},
     "output_type": "execute_result"
    }
   ],
   "source": [
    "LassoCV.fit(X_train, Y_train)"
   ]
  },
  {
   "cell_type": "code",
   "execution_count": 171,
   "id": "f7816fc0",
   "metadata": {},
   "outputs": [],
   "source": [
    "LassoCVpred = LassoCV.predict(X_test)"
   ]
  },
  {
   "cell_type": "code",
   "execution_count": 172,
   "id": "35fcc334",
   "metadata": {},
   "outputs": [
    {
     "name": "stdout",
     "output_type": "stream",
     "text": [
      "Coefficients: \n",
      " [ 9.43102605e-04  1.24718425e-03 -0.00000000e+00  1.55416617e-03\n",
      " -6.49296961e-03 -3.07061162e-04 -9.42757235e-05 -0.00000000e+00\n",
      "  7.87495108e-04 -3.38108427e-04  8.41502992e-04 -1.17412582e-04\n",
      "  2.79956323e-03]\n",
      "Mean squared error: 0.00\n",
      "Coefficient of determination: 0.59\n"
     ]
    }
   ],
   "source": [
    "# The coefficients\n",
    "print(\"Coefficients: \\n\", LassoCV.coef_)\n",
    "# The mean squared error\n",
    "print(\"Mean squared error: %.2f\" % mean_squared_error(Y_test, LassoCVpred))\n",
    "# The coefficient of determination: 1 is perfect prediction\n",
    "print(\"Coefficient of determination: %.2f\" % r2_score(Y_test, LassoCVpred))"
   ]
  },
  {
   "cell_type": "code",
   "execution_count": 173,
   "id": "796463a5",
   "metadata": {},
   "outputs": [],
   "source": [
    "Elastic = linear_model.ElasticNet(alpha = 0.1, l1_ratio = 0.7)"
   ]
  },
  {
   "cell_type": "code",
   "execution_count": 174,
   "id": "6fb1c35e",
   "metadata": {},
   "outputs": [
    {
     "data": {
      "text/plain": [
       "ElasticNet(alpha=0.1, l1_ratio=0.7)"
      ]
     },
     "execution_count": 174,
     "metadata": {},
     "output_type": "execute_result"
    }
   ],
   "source": [
    "Elastic.fit(X_train, Y_train)"
   ]
  },
  {
   "cell_type": "code",
   "execution_count": 175,
   "id": "c495ae41",
   "metadata": {},
   "outputs": [],
   "source": [
    "Elasticpred = Elastic.predict(X_test)"
   ]
  },
  {
   "cell_type": "code",
   "execution_count": 176,
   "id": "2f6188cd",
   "metadata": {},
   "outputs": [
    {
     "name": "stdout",
     "output_type": "stream",
     "text": [
      "Coefficients: \n",
      " [ 0.00000000e+00  1.60794787e-03 -0.00000000e+00  0.00000000e+00\n",
      " -0.00000000e+00 -1.62524358e-04  0.00000000e+00 -0.00000000e+00\n",
      "  6.69838089e-04  1.40310120e-04 -0.00000000e+00 -3.59052253e-05\n",
      "  5.11407330e-04]\n",
      "Mean squared error: 0.00\n",
      "Coefficient of determination: 0.57\n"
     ]
    }
   ],
   "source": [
    "# The coefficients\n",
    "print(\"Coefficients: \\n\", Elastic.coef_)\n",
    "# The mean squared error\n",
    "print(\"Mean squared error: %.2f\" % mean_squared_error(Y_test, Elasticpred))\n",
    "# The coefficient of determination: 1 is perfect prediction\n",
    "print(\"Coefficient of determination: %.2f\" % r2_score(Y_test, Elasticpred))"
   ]
  },
  {
   "cell_type": "code",
   "execution_count": 179,
   "id": "241e23e2",
   "metadata": {},
   "outputs": [],
   "source": [
    "Lars = linear_model.Lars()"
   ]
  },
  {
   "cell_type": "code",
   "execution_count": 180,
   "id": "f4747f87",
   "metadata": {},
   "outputs": [
    {
     "data": {
      "text/plain": [
       "Lars()"
      ]
     },
     "execution_count": 180,
     "metadata": {},
     "output_type": "execute_result"
    }
   ],
   "source": [
    "Lars.fit(X_train, Y_train)"
   ]
  },
  {
   "cell_type": "code",
   "execution_count": 181,
   "id": "4ef51e0b",
   "metadata": {},
   "outputs": [],
   "source": [
    "Larspred = Lars.predict(X_test)"
   ]
  },
  {
   "cell_type": "code",
   "execution_count": 182,
   "id": "701255a3",
   "metadata": {},
   "outputs": [
    {
     "name": "stdout",
     "output_type": "stream",
     "text": [
      "Coefficients: \n",
      " [ 9.71445222e-04 -1.86402131e-01 -1.87594955e-01 -1.86147243e-01\n",
      " -1.94579811e-01 -1.88005402e-01 -1.56642932e-04 -6.86272793e-02\n",
      "  7.86358787e-04 -3.61873845e-04  9.51371935e-04 -1.13199163e-04\n",
      "  2.62961750e-03]\n",
      "Mean squared error: 0.00\n",
      "Coefficient of determination: 0.61\n"
     ]
    }
   ],
   "source": [
    "# The coefficients\n",
    "print(\"Coefficients: \\n\", Lars.coef_)\n",
    "# The mean squared error\n",
    "print(\"Mean squared error: %.2f\" % mean_squared_error(Y_test, Larspred))\n",
    "# The coefficient of determination: 1 is perfect prediction\n",
    "print(\"Coefficient of determination: %.2f\" % r2_score(Y_test, Larspred))"
   ]
  },
  {
   "cell_type": "code",
   "execution_count": 187,
   "id": "5a430a45",
   "metadata": {},
   "outputs": [],
   "source": [
    "LarsLasso = linear_model.LassoLars(alpha = 0.1, normalize = False)"
   ]
  },
  {
   "cell_type": "code",
   "execution_count": 188,
   "id": "cd0f9da2",
   "metadata": {},
   "outputs": [
    {
     "data": {
      "text/plain": [
       "LassoLars(alpha=0.1, normalize=False)"
      ]
     },
     "execution_count": 188,
     "metadata": {},
     "output_type": "execute_result"
    }
   ],
   "source": [
    "LarsLasso.fit(X_train, Y_train)"
   ]
  },
  {
   "cell_type": "code",
   "execution_count": 189,
   "id": "6d964c05",
   "metadata": {},
   "outputs": [],
   "source": [
    "LarsLassopred = LarsLasso.predict(X_test)"
   ]
  },
  {
   "cell_type": "code",
   "execution_count": 190,
   "id": "11537340",
   "metadata": {},
   "outputs": [
    {
     "name": "stdout",
     "output_type": "stream",
     "text": [
      "Coefficients: \n",
      " [ 0.00000000e+00  1.73068281e-03  0.00000000e+00  0.00000000e+00\n",
      "  0.00000000e+00 -4.70726035e-05  0.00000000e+00  0.00000000e+00\n",
      "  5.67499923e-04  2.29558575e-04  0.00000000e+00 -9.84127874e-06\n",
      "  0.00000000e+00]\n",
      "Mean squared error: 0.00\n",
      "Coefficient of determination: 0.56\n"
     ]
    }
   ],
   "source": [
    "# The coefficients\n",
    "print(\"Coefficients: \\n\", LarsLasso.coef_)\n",
    "# The mean squared error\n",
    "print(\"Mean squared error: %.2f\" % mean_squared_error(Y_test, LarsLassopred))\n",
    "# The coefficient of determination: 1 is perfect prediction\n",
    "print(\"Coefficient of determination: %.2f\" % r2_score(Y_test, LarsLassopred))"
   ]
  },
  {
   "cell_type": "code",
   "execution_count": 191,
   "id": "b0113730",
   "metadata": {},
   "outputs": [],
   "source": [
    "BayesRidge = linear_model.BayesianRidge()"
   ]
  },
  {
   "cell_type": "code",
   "execution_count": 192,
   "id": "82b7b128",
   "metadata": {},
   "outputs": [
    {
     "data": {
      "text/plain": [
       "BayesianRidge()"
      ]
     },
     "execution_count": 192,
     "metadata": {},
     "output_type": "execute_result"
    }
   ],
   "source": [
    "BayesRidge.fit(X_train, Y_train)"
   ]
  },
  {
   "cell_type": "code",
   "execution_count": 193,
   "id": "e15c7e61",
   "metadata": {},
   "outputs": [],
   "source": [
    "BayesRidgepred = BayesRidge.predict(X_test)"
   ]
  },
  {
   "cell_type": "code",
   "execution_count": 194,
   "id": "3ef979ac",
   "metadata": {},
   "outputs": [
    {
     "name": "stdout",
     "output_type": "stream",
     "text": [
      "Coefficients: \n",
      " [ 9.34087258e-04  1.25378170e-03 -3.76163825e-05  1.39644588e-03\n",
      " -2.25556415e-03 -3.59426427e-04 -1.90384660e-04 -3.62750185e-05\n",
      "  8.10715258e-04 -2.49937133e-04  7.42092342e-04 -1.23072497e-04\n",
      "  2.36298754e-03]\n",
      "Mean squared error: 0.00\n",
      "Coefficient of determination: 0.59\n"
     ]
    }
   ],
   "source": [
    "# The coefficients\n",
    "print(\"Coefficients: \\n\", BayesRidge.coef_)\n",
    "# The mean squared error\n",
    "print(\"Mean squared error: %.2f\" % mean_squared_error(Y_test, BayesRidgepred))\n",
    "# The coefficient of determination: 1 is perfect prediction\n",
    "print(\"Coefficient of determination: %.2f\" % r2_score(Y_test, BayesRidgepred))"
   ]
  },
  {
   "cell_type": "code",
   "execution_count": 207,
   "id": "4b308d8e",
   "metadata": {},
   "outputs": [],
   "source": [
    "ARD = linear_model.ARDRegression(threshold_lambda=3e5)"
   ]
  },
  {
   "cell_type": "code",
   "execution_count": 208,
   "id": "8141e715",
   "metadata": {},
   "outputs": [
    {
     "data": {
      "text/plain": [
       "ARDRegression(threshold_lambda=300000.0)"
      ]
     },
     "execution_count": 208,
     "metadata": {},
     "output_type": "execute_result"
    }
   ],
   "source": [
    "ARD.fit(X_train, Y_train)"
   ]
  },
  {
   "cell_type": "code",
   "execution_count": 209,
   "id": "e53087f9",
   "metadata": {},
   "outputs": [],
   "source": [
    "ARDpred = ARD.predict(X_test)"
   ]
  },
  {
   "cell_type": "code",
   "execution_count": 210,
   "id": "f04204c6",
   "metadata": {},
   "outputs": [
    {
     "name": "stdout",
     "output_type": "stream",
     "text": [
      "Coefficients: \n",
      " [ 0.          0.          0.          0.         -0.00552417  0.\n",
      "  0.         -0.11450186  0.          0.          0.          0.\n",
      "  0.00486786]\n",
      "Mean squared error: 0.00\n",
      "Coefficient of determination: 0.43\n"
     ]
    }
   ],
   "source": [
    "# The coefficients\n",
    "print(\"Coefficients: \\n\", ARD.coef_)\n",
    "# The mean squared error\n",
    "print(\"Mean squared error: %.2f\" % mean_squared_error(Y_test, ARDpred))\n",
    "# The coefficient of determination: 1 is perfect prediction\n",
    "print(\"Coefficient of determination: %.2f\" % r2_score(Y_test, ARDpred))"
   ]
  },
  {
   "cell_type": "code",
   "execution_count": 213,
   "id": "4e1d0557",
   "metadata": {},
   "outputs": [],
   "source": [
    "PAR = linear_model.PassiveAggressiveRegressor()"
   ]
  },
  {
   "cell_type": "code",
   "execution_count": 214,
   "id": "6a7e8d62",
   "metadata": {},
   "outputs": [
    {
     "data": {
      "text/plain": [
       "PassiveAggressiveRegressor()"
      ]
     },
     "execution_count": 214,
     "metadata": {},
     "output_type": "execute_result"
    }
   ],
   "source": [
    "PAR.fit(X_train, Y_train)"
   ]
  },
  {
   "cell_type": "code",
   "execution_count": 215,
   "id": "79f9d4f7",
   "metadata": {},
   "outputs": [],
   "source": [
    "PARpred = PAR.predict(X_test)"
   ]
  },
  {
   "cell_type": "code",
   "execution_count": 216,
   "id": "17d2e232",
   "metadata": {},
   "outputs": [
    {
     "name": "stdout",
     "output_type": "stream",
     "text": [
      "Coefficients: \n",
      " [ 1.65066457e-03  1.70981912e-03  1.25450160e-03  8.66125866e-04\n",
      "  5.95692487e-05  1.97833542e-03  2.92346484e-03  1.18599428e-05\n",
      "  6.49743382e-04 -4.05124602e-04  9.98304436e-04  1.35262155e-04\n",
      "  2.85363036e-03]\n",
      "Mean squared error: 0.00\n",
      "Coefficient of determination: 0.49\n"
     ]
    }
   ],
   "source": [
    "# The coefficients\n",
    "print(\"Coefficients: \\n\", PAR.coef_)\n",
    "# The mean squared error\n",
    "print(\"Mean squared error: %.2f\" % mean_squared_error(Y_test, PARpred))\n",
    "# The coefficient of determination: 1 is perfect prediction\n",
    "print(\"Coefficient of determination: %.2f\" % r2_score(Y_test, PARpred))"
   ]
  },
  {
   "cell_type": "code",
   "execution_count": 245,
   "id": "9b61762e",
   "metadata": {},
   "outputs": [],
   "source": [
    "metrics = ['accuracy', 'precision', 'recall']\n",
    "kfold = KFold(shuffle = True, random_state = 0, n_splits=5)\n",
    "results = cross_validate(LG, X, Y, cv = kfold, scoring = metrics, n_jobs = -1)"
   ]
  },
  {
   "cell_type": "code",
   "execution_count": 246,
   "id": "3a8fe66a",
   "metadata": {},
   "outputs": [
    {
     "name": "stdout",
     "output_type": "stream",
     "text": [
      "Accuracy: [nan nan nan nan nan]\n",
      "Precision: [nan nan nan nan nan]\n",
      "Recall: [nan nan nan nan nan]\n"
     ]
    }
   ],
   "source": [
    "#Display Linear regression metrics for K = 5\n",
    "print(\"Accuracy:\", results['test_accuracy']) \n",
    "print(\"Precision:\", results['test_precision'])\n",
    "print(\"Recall:\", results['test_recall'])"
   ]
  },
  {
   "cell_type": "code",
   "execution_count": null,
   "id": "c59f49c4",
   "metadata": {},
   "outputs": [],
   "source": []
  }
 ],
 "metadata": {
  "kernelspec": {
   "display_name": "Python 3",
   "language": "python",
   "name": "python3"
  },
  "language_info": {
   "codemirror_mode": {
    "name": "ipython",
    "version": 3
   },
   "file_extension": ".py",
   "mimetype": "text/x-python",
   "name": "python",
   "nbconvert_exporter": "python",
   "pygments_lexer": "ipython3",
   "version": "3.8.8"
  }
 },
 "nbformat": 4,
 "nbformat_minor": 5
}
